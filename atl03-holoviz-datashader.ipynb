{
 "cells": [
  {
   "cell_type": "markdown",
   "metadata": {},
   "source": [
    "## ATL03 Points with datashader"
   ]
  },
  {
   "cell_type": "code",
   "execution_count": null,
   "metadata": {},
   "outputs": [],
   "source": [
    "import xarray as xr\n",
    "import hvplot.xarray\n",
    "import s3fs\n",
    "import pandas as pd\n",
    "import numpy as np"
   ]
  },
  {
   "cell_type": "code",
   "execution_count": null,
   "metadata": {},
   "outputs": [],
   "source": [
    "# copy an ATL03 file to disk (I've put one from the ATL03/ATL06 tutorial in the hackweek s3 bucket)\n",
    "!aws s3 cp s3://scottyhq/pangeo-demo/ATL03_20190928165055_00270510_003_01.h5 /srv/scratch/ATL03_20190928165055_00270510_003_01.h5"
   ]
  },
  {
   "cell_type": "code",
   "execution_count": null,
   "metadata": {},
   "outputs": [],
   "source": [
    "!ls -lh /srv/scratch/ATL03_20190928165055_00270510_003_01.h5"
   ]
  },
  {
   "cell_type": "code",
   "execution_count": null,
   "metadata": {},
   "outputs": [],
   "source": [
    "filePath='/srv/scratch/ATL03_20190928165055_00270510_003_01.h5'\n",
    "group = 'gt1l/heights'\n",
    "gt1l = xr.open_dataset(filePath, group=group, engine='h5netcdf')\n",
    "gt1l"
   ]
  },
  {
   "cell_type": "code",
   "execution_count": null,
   "metadata": {},
   "outputs": [],
   "source": [
    "npoints = int(gt1l.delta_time.size / 1e6)\n",
    "print(f'This group contains ~{npoints} million points!')\n",
    "print(f'group dataset size is ~{gt1l.nbytes/1e9:.2f} Gb')"
   ]
  },
  {
   "cell_type": "code",
   "execution_count": null,
   "metadata": {},
   "outputs": [],
   "source": [
    "# Extract categorized detections\n",
    "cols = ['h_ph', 'signal_conf_ph']\n",
    "\n",
    "landice = gt1l[cols].sel(ds_surf_type=3)\n",
    "land = gt1l[cols].sel(ds_surf_type=1)\n",
    "land"
   ]
  },
  {
   "cell_type": "code",
   "execution_count": null,
   "metadata": {},
   "outputs": [],
   "source": [
    "landice"
   ]
  },
  {
   "cell_type": "code",
   "execution_count": null,
   "metadata": {},
   "outputs": [],
   "source": [
    "# Retain only 'noise' and 'signal' in this category of points\n",
    "ds_landice = landice.where(landice.signal_conf_ph >=0, drop=True)\n",
    "ds_land = land.where(land.signal_conf_ph >=0, drop=True)\n",
    "ds_land"
   ]
  },
  {
   "cell_type": "code",
   "execution_count": null,
   "metadata": {},
   "outputs": [],
   "source": [
    "# Above lines promote any int dtypes to float64 for some reason,,, can reassign as int8\n",
    "ds_landice['signal_conf_ph'] = ds_landice.signal_conf_ph.astype('int8')\n",
    "ds_land['signal_conf_ph'] = ds_land.signal_conf_ph.astype('int8')\n",
    "ds_land"
   ]
  },
  {
   "cell_type": "code",
   "execution_count": null,
   "metadata": {},
   "outputs": [],
   "source": [
    "nland = int(ds_land.delta_time.size / 1e6)\n",
    "nlandice = int(ds_landice.delta_time.size / 1e6)\n",
    "print(f'~{nland} million valid land points!')\n",
    "print(f'~{nlandice} million valid landice points!')"
   ]
  },
  {
   "cell_type": "code",
   "execution_count": null,
   "metadata": {},
   "outputs": [],
   "source": [
    "all_points = gt1l.h_ph.hvplot.scatter(x='delta_time', datashade=True, cmap='greys')\n",
    "land_points = ds_land.h_ph.hvplot.scatter(x='delta_time', datashade=True, cmap='greens')\n",
    "landice_points = ds_landice.h_ph.hvplot.scatter(x='delta_time', datashade=True, cmap='blues')\n",
    "all_points * land_points * landice_points"
   ]
  },
  {
   "cell_type": "code",
   "execution_count": null,
   "metadata": {},
   "outputs": [],
   "source": [
    "# extract variables of interest into a pandas dataframe\n",
    "df = ds_landice[['h_ph','signal_conf_ph']].to_dataframe()\n",
    "df.head()"
   ]
  },
  {
   "cell_type": "code",
   "execution_count": null,
   "metadata": {},
   "outputs": [],
   "source": [
    "df.info()"
   ]
  },
  {
   "cell_type": "code",
   "execution_count": null,
   "metadata": {},
   "outputs": [],
   "source": [
    "# Colorby signal strength flag \n",
    "import hvplot.pandas\n",
    "\n",
    "colormap={0:'grey', 1: 'black', 2: 'yellow', 3:'orange', 4:'red' }\n",
    "df.hvplot.scatter(x='delta_time', y='h_ph', by='signal_conf_ph', datashade=True, dynspread=True, cmap=colormap,\n",
    "                  width=1000, height=500)"
   ]
  }
 ],
 "metadata": {
  "kernelspec": {
   "display_name": "Python [conda env:notebook] *",
   "language": "python",
   "name": "conda-env-notebook-py"
  },
  "language_info": {
   "codemirror_mode": {
    "name": "ipython",
    "version": 3
   },
   "file_extension": ".py",
   "mimetype": "text/x-python",
   "name": "python",
   "nbconvert_exporter": "python",
   "pygments_lexer": "ipython3",
   "version": "3.7.8"
  }
 },
 "nbformat": 4,
 "nbformat_minor": 4
}
