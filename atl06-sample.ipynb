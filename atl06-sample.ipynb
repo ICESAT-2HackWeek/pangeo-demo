{
 "cells": [
  {
   "cell_type": "markdown",
   "metadata": {},
   "source": [
    "# ATL06 + Raster Sampling\n",
    "\n",
    "A quick demo using pangeo tools"
   ]
  },
  {
   "cell_type": "code",
   "execution_count": null,
   "metadata": {},
   "outputs": [],
   "source": [
    "# NOTE: Need intake-stac master \n",
    "#!pip install git+https://github.com/intake/intake-stac@master\n",
    "import intake\n",
    "import satsearch\n",
    "\n",
    "import pandas as pd\n",
    "import geopandas as gpd\n",
    "import xarray as xr\n",
    "\n",
    "import hvplot.xarray\n",
    "import hvplot.pandas"
   ]
  },
  {
   "cell_type": "code",
   "execution_count": null,
   "metadata": {},
   "outputs": [],
   "source": [
    "# Grab a raster DEM\n",
    "# (min lon, min lat, max lon, max lat)\n",
    "mt_rainier_bbox = (-121.849, 46.799, -121.660, 46.904)\n",
    "\n",
    "URL='https://cmr.earthdata.nasa.gov/cmr-stac/LPDAAC_ECS'\n",
    "results = satsearch.Search.search(url=URL,\n",
    "                                  collections=['C204582034-LPDAAC_ECS'], #SRTMGL3\n",
    "                                  bbox=mt_rainier_bbox,    \n",
    "                                 )\n",
    "\n",
    "items = results.items()\n",
    "print('%s items' % len(items))\n",
    "list(items)"
   ]
  },
  {
   "cell_type": "code",
   "execution_count": null,
   "metadata": {},
   "outputs": [],
   "source": [
    "# print out full JSON metadata\n",
    "#item._stac_obj._data"
   ]
  },
  {
   "cell_type": "code",
   "execution_count": null,
   "metadata": {},
   "outputs": [],
   "source": [
    "catalog = intake.open_stac_item_collection(items)\n",
    "item = catalog['G205277334-LPDAAC_ECS']\n",
    "img = item.browse.plot()\n",
    "img"
   ]
  },
  {
   "cell_type": "code",
   "execution_count": null,
   "metadata": {},
   "outputs": [],
   "source": [
    "# Can't yet read hgt.zip directly, so just download locally and then open\n",
    "# NOTE: need a .netrc file with your earthdata login for this\n",
    "localFile = item._stac_obj.download('data')\n",
    "print(localFile)"
   ]
  },
  {
   "cell_type": "code",
   "execution_count": null,
   "metadata": {},
   "outputs": [],
   "source": [
    "# Rasterio can open zip files\n",
    "import rasterio\n",
    "with rasterio.open(f'zip://{localFile}!N46W122.hgt') as src:\n",
    "    print(src.profile)"
   ]
  },
  {
   "cell_type": "code",
   "execution_count": null,
   "metadata": {},
   "outputs": [],
   "source": [
    "# So can Xarray\n",
    "da = xr.open_rasterio(f'zip://{localFile}!N46W122.hgt')\n",
    "da"
   ]
  },
  {
   "cell_type": "code",
   "execution_count": null,
   "metadata": {},
   "outputs": [],
   "source": [
    "# Some cleanup - hvplot doesn't like these units\n",
    "da = da.squeeze('band')\n",
    "da.attrs.pop('units')"
   ]
  },
  {
   "cell_type": "code",
   "execution_count": null,
   "metadata": {},
   "outputs": [],
   "source": [
    "img = da.hvplot.image(cmap='gray', data_aspect=1, frame_width=500)\n",
    "img"
   ]
  },
  {
   "cell_type": "code",
   "execution_count": null,
   "metadata": {},
   "outputs": [],
   "source": [
    "# Grab ATL06\n",
    "URL='https://cmr.earthdata.nasa.gov/cmr-stac/NSIDC_ECS'\n",
    "results = satsearch.Search.search(url=URL,\n",
    "                                  collections=['C1706333750-NSIDC_ECS'], #ATL03\n",
    "                                  bbox=mt_rainier_bbox,    \n",
    "                                 )\n",
    "\n",
    "items = results.items()\n",
    "print('%s items' % len(items))\n",
    "list(items)[:5]"
   ]
  },
  {
   "cell_type": "code",
   "execution_count": null,
   "metadata": {},
   "outputs": [],
   "source": [
    "# Just grab the top one\n",
    "catalog = intake.open_stac_item_collection(items)\n",
    "item = catalog['G1720880018-NSIDC_ECS']"
   ]
  },
  {
   "cell_type": "code",
   "execution_count": null,
   "metadata": {},
   "outputs": [],
   "source": [
    "# Full JSON metadata\n",
    "#item._stac_obj._data"
   ]
  },
  {
   "cell_type": "code",
   "execution_count": null,
   "metadata": {},
   "outputs": [],
   "source": [
    "# Can't yet read HDF5 directly (Earthdata login issue), so download and read locally\n",
    "# NOTE: need a .netrc file with your earthdata login for this\n",
    "localFile = item._stac_obj.download('data')\n",
    "print(localFile)"
   ]
  },
  {
   "cell_type": "code",
   "execution_count": null,
   "metadata": {},
   "outputs": [],
   "source": [
    "# Load with xarray\n",
    "daI = xr.open_dataset(localFile, group='gt1l/land_ice_segments')\n",
    "daI"
   ]
  },
  {
   "cell_type": "code",
   "execution_count": null,
   "metadata": {},
   "outputs": [],
   "source": [
    "# Sample DEM with IS2 points\n",
    "# http://xarray.pydata.org/en/stable/interpolation.html#advanced-interpolation\n",
    "# For simplicity take first 1000 points\n",
    "df = daI.isel(delta_time=slice(0,1000)).to_dataframe()\n",
    "df"
   ]
  },
  {
   "cell_type": "code",
   "execution_count": null,
   "metadata": {},
   "outputs": [],
   "source": [
    "df.describe()"
   ]
  },
  {
   "cell_type": "code",
   "execution_count": null,
   "metadata": {},
   "outputs": [],
   "source": [
    "# Plot raster and points with holoviews\n",
    "gf = gpd.GeoDataFrame(df, geometry=gpd.points_from_xy(df.longitude, df.latitude), crs='epsg:4326')\n",
    "gf.head()"
   ]
  },
  {
   "cell_type": "code",
   "execution_count": null,
   "metadata": {},
   "outputs": [],
   "source": [
    "points = gf.hvplot.points(c='h_li', frame_height=400, data_aspect=1, colorbar=True)"
   ]
  },
  {
   "cell_type": "code",
   "execution_count": null,
   "metadata": {},
   "outputs": [],
   "source": [
    "img * points"
   ]
  },
  {
   "cell_type": "code",
   "execution_count": null,
   "metadata": {},
   "outputs": [],
   "source": [
    "# Sample raster at these points using a variety of techniques\n",
    "# http://xarray.pydata.org/en/stable/interpolation.html#advanced-interpolation\n",
    "\n",
    "#method: {'linear', 'nearest'} for multidimensional array,\n",
    "#    {'linear', 'nearest', 'zero', 'slinear', 'quadratic', 'cubic'} for 1-dimensional array.\n",
    "    \n",
    "x = xr.DataArray(df.longitude.values, dims=\"z\")\n",
    "y = xr.DataArray(df.latitude.values, dims=\"z\")\n",
    "daI = da.interp(x=x, y=y) #default method is linear"
   ]
  },
  {
   "cell_type": "code",
   "execution_count": null,
   "metadata": {},
   "outputs": [],
   "source": [
    "df['h_srtm'] = daI.values"
   ]
  },
  {
   "cell_type": "code",
   "execution_count": null,
   "metadata": {},
   "outputs": [],
   "source": [
    "df.hvplot.scatter(y=['h_li', 'h_srtm'])"
   ]
  },
  {
   "cell_type": "code",
   "execution_count": null,
   "metadata": {},
   "outputs": [],
   "source": []
  }
 ],
 "metadata": {
  "kernelspec": {
   "display_name": "Python [conda env:notebook] *",
   "language": "python",
   "name": "conda-env-notebook-py"
  },
  "language_info": {
   "codemirror_mode": {
    "name": "ipython",
    "version": 3
   },
   "file_extension": ".py",
   "mimetype": "text/x-python",
   "name": "python",
   "nbconvert_exporter": "python",
   "pygments_lexer": "ipython3",
   "version": "3.7.8"
  }
 },
 "nbformat": 4,
 "nbformat_minor": 4
}
